{
  "cells": [
    {
      "cell_type": "markdown",
      "metadata": {
        "id": "view-in-github",
        "colab_type": "text"
      },
      "source": [
        "<a href=\"https://colab.research.google.com/github/CHAYAKK/Steemer-and-lemmatize/blob/main/Steemer_and_lemmatize.ipynb\" target=\"_parent\"><img src=\"https://colab.research.google.com/assets/colab-badge.svg\" alt=\"Open In Colab\"/></a>"
      ]
    },
    {
      "cell_type": "code",
      "execution_count": null,
      "id": "61f1cea4-a754-4e20-869b-01ac7e456249",
      "metadata": {
        "id": "61f1cea4-a754-4e20-869b-01ac7e456249"
      },
      "outputs": [],
      "source": [
        "article_text=\"Just what is agility in the context of software engineering work? Ivar Jacobs\"\n"
      ]
    },
    {
      "cell_type": "code",
      "execution_count": null,
      "id": "922b923e-f005-4f2e-889f-740f0594e3c7",
      "metadata": {
        "id": "922b923e-f005-4f2e-889f-740f0594e3c7"
      },
      "outputs": [],
      "source": [
        "import re\n",
        "import nltk\n",
        "from nltk.tokenize import word_tokenize\n"
      ]
    },
    {
      "cell_type": "code",
      "execution_count": null,
      "id": "bc98a457-ae24-4f52-87ee-0b410e58abaa",
      "metadata": {
        "colab": {
          "base_uri": "https://localhost:8080/",
          "height": 36
        },
        "id": "bc98a457-ae24-4f52-87ee-0b410e58abaa",
        "outputId": "a1d81ab9-e742-4d4c-c7cb-c498e6a2e347"
      },
      "outputs": [
        {
          "output_type": "execute_result",
          "data": {
            "text/plain": [
              "'just what is agility in the context of software engineering work? ivar jacobs'"
            ],
            "application/vnd.google.colaboratory.intrinsic+json": {
              "type": "string"
            }
          },
          "metadata": {},
          "execution_count": 3
        }
      ],
      "source": [
        "article_text = article_text.lower()\n",
        "article_text\n"
      ]
    },
    {
      "cell_type": "code",
      "execution_count": null,
      "id": "d375cedd-4bf9-4251-8099-76a7f67cdfbc",
      "metadata": {
        "colab": {
          "base_uri": "https://localhost:8080/",
          "height": 36
        },
        "id": "d375cedd-4bf9-4251-8099-76a7f67cdfbc",
        "outputId": "b9357cd1-418a-4799-8f57-70603f9f6463"
      },
      "outputs": [
        {
          "output_type": "execute_result",
          "data": {
            "text/plain": [
              "'just what is agility in the context of software engineering work ivar jacobs'"
            ],
            "application/vnd.google.colaboratory.intrinsic+json": {
              "type": "string"
            }
          },
          "metadata": {},
          "execution_count": 4
        }
      ],
      "source": [
        "clean_text = re.sub(r'[^a-zA-Z\\s]', '', article_text)\n",
        "clean_text\n"
      ]
    },
    {
      "cell_type": "code",
      "metadata": {
        "colab": {
          "base_uri": "https://localhost:8080/"
        },
        "id": "fa5f438d",
        "outputId": "0c853905-7252-47dd-a066-4556712d3cca"
      },
      "source": [
        "import nltk\n",
        "nltk.download('punkt_tab')"
      ],
      "id": "fa5f438d",
      "execution_count": null,
      "outputs": [
        {
          "output_type": "stream",
          "name": "stderr",
          "text": [
            "[nltk_data] Downloading package punkt_tab to /root/nltk_data...\n",
            "[nltk_data]   Unzipping tokenizers/punkt_tab.zip.\n"
          ]
        },
        {
          "output_type": "execute_result",
          "data": {
            "text/plain": [
              "True"
            ]
          },
          "metadata": {},
          "execution_count": 24
        }
      ]
    },
    {
      "cell_type": "code",
      "source": [
        "sentence_list = nltk.sent_tokenize(article_text)\n",
        "sentence_list"
      ],
      "metadata": {
        "colab": {
          "base_uri": "https://localhost:8080/"
        },
        "id": "PggpjIJdyO5R",
        "outputId": "92702f11-56e9-442c-fd10-30a21192e4ff"
      },
      "id": "PggpjIJdyO5R",
      "execution_count": null,
      "outputs": [
        {
          "output_type": "execute_result",
          "data": {
            "text/plain": [
              "['just what is agility in the context of software engineering work?',\n",
              " 'ivar jacobs']"
            ]
          },
          "metadata": {},
          "execution_count": 25
        }
      ]
    },
    {
      "cell_type": "code",
      "source": [
        "token= word_tokenize(clean_text)\n",
        "token"
      ],
      "metadata": {
        "colab": {
          "base_uri": "https://localhost:8080/"
        },
        "id": "NzdoJTdSzZee",
        "outputId": "38e4e3d8-8f90-49b9-cfb5-8f5347a63e87"
      },
      "id": "NzdoJTdSzZee",
      "execution_count": null,
      "outputs": [
        {
          "output_type": "execute_result",
          "data": {
            "text/plain": [
              "['just',\n",
              " 'what',\n",
              " 'is',\n",
              " 'agility',\n",
              " 'in',\n",
              " 'the',\n",
              " 'context',\n",
              " 'of',\n",
              " 'software',\n",
              " 'engineering',\n",
              " 'work',\n",
              " 'ivar',\n",
              " 'jacobs']"
            ]
          },
          "metadata": {},
          "execution_count": 33
        }
      ]
    },
    {
      "cell_type": "code",
      "execution_count": null,
      "id": "9ef843ae-9f35-470f-a7ca-743e225ccbfc",
      "metadata": {
        "colab": {
          "base_uri": "https://localhost:8080/"
        },
        "id": "9ef843ae-9f35-470f-a7ca-743e225ccbfc",
        "outputId": "40adae78-7188-405b-85a5-251a1539501d"
      },
      "outputs": [
        {
          "output_type": "stream",
          "name": "stderr",
          "text": [
            "[nltk_data] Downloading package stopwords to /root/nltk_data...\n",
            "[nltk_data]   Package stopwords is already up-to-date!\n"
          ]
        }
      ],
      "source": [
        "nltk.download('stopwords')\n",
        "from nltk.corpus import stopwords\n",
        "stop_words = set(stopwords.words('english'))\n"
      ]
    },
    {
      "cell_type": "code",
      "execution_count": null,
      "id": "11aaec20-f2ea-45b1-8b90-c10d83fa777e",
      "metadata": {
        "colab": {
          "base_uri": "https://localhost:8080/"
        },
        "id": "11aaec20-f2ea-45b1-8b90-c10d83fa777e",
        "outputId": "1cc5f997-b5f7-4f60-81ad-2270c99db735"
      },
      "outputs": [
        {
          "output_type": "execute_result",
          "data": {
            "text/plain": [
              "{'agility': 1,\n",
              " 'context': 1,\n",
              " 'software': 1,\n",
              " 'engineering': 1,\n",
              " 'work': 1,\n",
              " 'ivar': 1,\n",
              " 'jacobs': 1}"
            ]
          },
          "metadata": {},
          "execution_count": 36
        }
      ],
      "source": [
        "word_frequencies = {}\n",
        "for word in token:\n",
        "    if word not in stop_words:\n",
        "        if word not in word_frequencies:\n",
        "            word_frequencies[word] = 1\n",
        "        else:\n",
        "            word_frequencies[word] += 1\n",
        "word_frequencies\n"
      ]
    },
    {
      "cell_type": "code",
      "execution_count": null,
      "id": "e219d5f5-61bb-4704-9dec-85b426b30e0a",
      "metadata": {
        "colab": {
          "base_uri": "https://localhost:8080/"
        },
        "id": "e219d5f5-61bb-4704-9dec-85b426b30e0a",
        "outputId": "7d845610-c370-4c0e-9ad5-cae3fa7fe70e"
      },
      "outputs": [
        {
          "output_type": "execute_result",
          "data": {
            "text/plain": [
              "Counter()"
            ]
          },
          "metadata": {},
          "execution_count": 28
        }
      ],
      "source": [
        "from collections import Counter\n",
        "dictionary = Counter(word_frequencies)\n",
        "dictionary\n"
      ]
    },
    {
      "cell_type": "code",
      "execution_count": null,
      "id": "9664e116-44d1-4d3c-9521-035ef3fab17f",
      "metadata": {
        "id": "9664e116-44d1-4d3c-9521-035ef3fab17f"
      },
      "outputs": [],
      "source": [
        "from nltk.stem import PorterStemmer\n",
        "from nltk.stem import LancasterStemmer\n"
      ]
    },
    {
      "cell_type": "code",
      "execution_count": null,
      "id": "065c389a-32fd-4b8e-9895-29433086fa62",
      "metadata": {
        "colab": {
          "base_uri": "https://localhost:8080/"
        },
        "id": "065c389a-32fd-4b8e-9895-29433086fa62",
        "outputId": "dc1478b6-9640-4ed1-ace9-2e92bf50bb84"
      },
      "outputs": [
        {
          "output_type": "stream",
          "name": "stdout",
          "text": [
            "cat\n",
            "cat\n",
            "troubl\n",
            "troubl\n",
            "troubl\n",
            "troubl\n"
          ]
        }
      ],
      "source": [
        "porter = PorterStemmer()\n",
        "lancaster = LancasterStemmer()\n",
        "\n",
        "print(porter.stem(\"cats\"))\n",
        "print(lancaster.stem(\"cats\"))\n",
        "print(porter.stem(\"troubling\"))\n",
        "print(lancaster.stem(\"troubling\"))\n",
        "print(porter.stem(\"troubled\"))\n",
        "print(lancaster.stem(\"troubled\"))\n"
      ]
    },
    {
      "cell_type": "code",
      "execution_count": null,
      "id": "deeae7f0-2242-4301-8e53-4f3c5784b991",
      "metadata": {
        "colab": {
          "base_uri": "https://localhost:8080/"
        },
        "id": "deeae7f0-2242-4301-8e53-4f3c5784b991",
        "outputId": "b96f6fe0-c96f-4103-e3df-7ed84eb29b76"
      },
      "outputs": [
        {
          "output_type": "stream",
          "name": "stdout",
          "text": [
            "Word                Porter Stemmer      Lancaster Stemmer   \n",
            "friend              friend              friend              \n",
            "friendship          friendship          friend              \n",
            "friends             friend              friend              \n",
            "friendships         friendship          friend              \n",
            "stabil              stabil              stabl               \n",
            "destabilize         destabil            dest                \n"
          ]
        }
      ],
      "source": [
        "word_list = [\"friend\", \"friendship\", \"friends\", \"friendships\", \"stabil\", \"destabilize\"]\n",
        "print(\"{:20}{:20}{:20}\".format(\"Word\", \"Porter Stemmer\", \"Lancaster Stemmer\"))\n",
        "for word in word_list:\n",
        "    print(\"{:20}{:20}{:20}\".format(word, porter.stem(word), lancaster.stem(word)))\n"
      ]
    },
    {
      "cell_type": "code",
      "execution_count": null,
      "id": "07f843ca-e44d-4d39-b1e6-3e318d5efec7",
      "metadata": {
        "colab": {
          "base_uri": "https://localhost:8080/"
        },
        "id": "07f843ca-e44d-4d39-b1e6-3e318d5efec7",
        "outputId": "dfc701fa-9226-410e-93c6-0dbfa1a48f17"
      },
      "outputs": [
        {
          "output_type": "execute_result",
          "data": {
            "text/plain": [
              "['just',\n",
              " ' ',\n",
              " 'what',\n",
              " ' ',\n",
              " 'is',\n",
              " ' ',\n",
              " 'agil',\n",
              " ' ',\n",
              " 'in',\n",
              " ' ',\n",
              " 'the',\n",
              " ' ',\n",
              " 'context',\n",
              " ' ',\n",
              " 'of',\n",
              " ' ',\n",
              " 'softwar',\n",
              " ' ',\n",
              " 'engin',\n",
              " ' ',\n",
              " 'work',\n",
              " ' ',\n",
              " 'ivar',\n",
              " ' ',\n",
              " 'jacob',\n",
              " ' ']"
            ]
          },
          "metadata": {},
          "execution_count": 37
        }
      ],
      "source": [
        "stem_sentence = []\n",
        "for word in token:\n",
        "    stem_sentence.append(porter.stem(word))\n",
        "    stem_sentence.append(\" \")\n",
        "stem_sentence\n"
      ]
    },
    {
      "cell_type": "code",
      "execution_count": null,
      "id": "5eb89777-69a7-4312-ba3c-36114579d37c",
      "metadata": {
        "id": "5eb89777-69a7-4312-ba3c-36114579d37c"
      },
      "outputs": [],
      "source": [
        "from nltk.stem import WordNetLemmatizer\n",
        "lemmatizer = WordNetLemmatizer()\n"
      ]
    },
    {
      "cell_type": "code",
      "execution_count": null,
      "id": "5eb5b5ed-4319-46b3-a67a-cf03e1fb4cb5",
      "metadata": {
        "colab": {
          "base_uri": "https://localhost:8080/"
        },
        "id": "5eb5b5ed-4319-46b3-a67a-cf03e1fb4cb5",
        "outputId": "8de3c13f-47a5-47f4-d694-d630579cbae3"
      },
      "outputs": [
        {
          "output_type": "stream",
          "name": "stderr",
          "text": [
            "[nltk_data] Downloading package wordnet to /root/nltk_data...\n"
          ]
        },
        {
          "output_type": "execute_result",
          "data": {
            "text/plain": [
              "True"
            ]
          },
          "metadata": {},
          "execution_count": 15
        }
      ],
      "source": [
        "import nltk\n",
        "nltk.download('wordnet')\n"
      ]
    },
    {
      "cell_type": "code",
      "execution_count": null,
      "id": "07877d10-f2c9-4a4e-843b-09c5be29aa54",
      "metadata": {
        "id": "07877d10-f2c9-4a4e-843b-09c5be29aa54"
      },
      "outputs": [],
      "source": [
        "def lemmatize_word(word):\n",
        "    return lemmatizer.lemmatize(word)\n"
      ]
    },
    {
      "cell_type": "code",
      "execution_count": null,
      "id": "3ed67f74-9f53-4c41-9c8a-6fe22d0b344b",
      "metadata": {
        "colab": {
          "base_uri": "https://localhost:8080/"
        },
        "id": "3ed67f74-9f53-4c41-9c8a-6fe22d0b344b",
        "outputId": "ab927379-994a-4c4a-cd6a-d6962fc4984c"
      },
      "outputs": [
        {
          "output_type": "stream",
          "name": "stdout",
          "text": [
            "Word                Lemma               \n",
            "word1               word1               \n",
            "word2               word2               \n",
            "word3               word3               \n"
          ]
        }
      ],
      "source": [
        "word_list = [\"word1\", \"word2\", \"word3\"]\n",
        "print(\"{:20}{:20}\".format(\"Word\", \"Lemma\"))\n",
        "for word in word_list:\n",
        "    print(\"{:20}{:20}\".format(word, lemmatize_word(word)))\n"
      ]
    }
  ],
  "metadata": {
    "kernelspec": {
      "display_name": "Python 3 (ipykernel)",
      "language": "python",
      "name": "python3"
    },
    "language_info": {
      "codemirror_mode": {
        "name": "ipython",
        "version": 3
      },
      "file_extension": ".py",
      "mimetype": "text/x-python",
      "name": "python",
      "nbconvert_exporter": "python",
      "pygments_lexer": "ipython3",
      "version": "3.12.4"
    },
    "colab": {
      "provenance": [],
      "include_colab_link": true
    }
  },
  "nbformat": 4,
  "nbformat_minor": 5
}